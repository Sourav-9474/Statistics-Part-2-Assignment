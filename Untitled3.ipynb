{
  "nbformat": 4,
  "nbformat_minor": 0,
  "metadata": {
    "colab": {
      "provenance": []
    },
    "kernelspec": {
      "name": "python3",
      "display_name": "Python 3"
    },
    "language_info": {
      "name": "python"
    }
  },
  "cells": [
    {
      "cell_type": "markdown",
      "source": [
        "**Statistics Part 2  Assignment**"
      ],
      "metadata": {
        "id": "fqPNCK0-7Czp"
      }
    },
    {
      "cell_type": "markdown",
      "source": [
        "1.  What is hypothesis testing in statistics?\n",
        "\n",
        "=>  Hypothesis testing is a method used to decide whether there is enough evidence in a sample of data to infer that a certain condition is true for the entire population.\n",
        "\n"
      ],
      "metadata": {
        "id": "BtTMZVhi7eYk"
      }
    },
    {
      "cell_type": "markdown",
      "source": [
        "2.  What is the null hypothesis, and how does it differ from the alternative hypothesis?\n",
        "\n",
        "=>  Null Hypothesis (H₀): Assumes no effect or no difference; it’s the default or status quo.\n",
        "\n",
        "Alternative Hypothesis (H₁ or Hₐ): Opposes the null; it suggests there is an effect or difference.\n",
        "\n",
        "Example:\n",
        "\n",
        "H₀: μ = 50 (no change)\n",
        "\n",
        "H₁: μ ≠ 50 (some change)"
      ],
      "metadata": {
        "id": "LSiqVB_D7u2E"
      }
    },
    {
      "cell_type": "markdown",
      "source": [
        "3.  What is the significance level in hypothesis testing, and why is it important?\n",
        "\n",
        "=>  Significance level (α): The threshold for deciding whether to reject H₀, commonly set at 0.05.\n",
        "\n",
        "It represents the probability of making a Type I error (false positive).\n",
        "\n"
      ],
      "metadata": {
        "id": "pX4GWxDq7-NO"
      }
    },
    {
      "cell_type": "markdown",
      "source": [
        "4.  What does a P-value represent in hypothesis testing?\n",
        "\n",
        "=>  The P-value is the probability of observing your sample data, or something more extreme, if H₀ is true.\n",
        "\n"
      ],
      "metadata": {
        "id": "Fwd4Bp9C8F9G"
      }
    },
    {
      "cell_type": "markdown",
      "source": [
        "5.   How do you interpret the P-value in hypothesis testing?\n",
        "\n",
        "=>  If P-value ≤ α, reject H₀ (statistically significant).\n",
        "\n",
        "If P-value > α, fail to reject H₀ (not statistically significant).\n",
        "\n"
      ],
      "metadata": {
        "id": "uto_lKiS8Ntq"
      }
    },
    {
      "cell_type": "markdown",
      "source": [
        "6.  What are Type 1 and Type 2 errors in hypothesis testing?\n",
        "\n",
        "=>  Type I Error: Rejecting a true H₀ (false positive).\n",
        "\n",
        "Type II Error: Failing to reject a false H₀ (false negative).\n",
        "\n"
      ],
      "metadata": {
        "id": "cxO2D0W98Vdn"
      }
    },
    {
      "cell_type": "markdown",
      "source": [
        "7. What is the difference between a one-tailed and a two-tailed test in hypothesis testing?\n",
        "\n",
        "=>  One-tailed test: Tests for deviation in one direction (e.g., > or <).\n",
        "\n",
        "Two-tailed test: Tests for deviation in both directions (e.g., ≠).\n",
        "\n"
      ],
      "metadata": {
        "id": "cXwdC7o78ewj"
      }
    },
    {
      "cell_type": "markdown",
      "source": [
        "8.  What is the Z-test, and when is it used in hypothesis testing?\n",
        "\n",
        "=>  A Z-test is used when the population standard deviation is known and the sample size is large (n > 30).\n",
        "\n",
        "Commonly used for comparing sample and population means.\n",
        "\n"
      ],
      "metadata": {
        "id": "yUsJWv9t8nW0"
      }
    },
    {
      "cell_type": "markdown",
      "source": [
        "9.  How do you calculate the Z-score, and what does it represent in hypothesis testing?\n",
        "\n",
        "=>  Z = (X̄ - μ) / (σ / √n)\n",
        "Where:\n",
        "\n",
        "X̄ = sample mean\n",
        "\n",
        "μ = population mean\n",
        "\n",
        "σ = population standard deviation\n",
        "\n",
        "n = sample size\n",
        "\n",
        "It tells how many standard deviations the sample mean is from the population mean."
      ],
      "metadata": {
        "id": "rc3AbQWl8t-k"
      }
    },
    {
      "cell_type": "markdown",
      "source": [
        "10.  What is the T-distribution, and when should it be used instead of the normal distribution?\n",
        "\n",
        "=>  The T-distribution is used when:\n",
        "\n",
        "The sample size is small (n < 30)\n",
        "\n",
        "The population standard deviation is unknown"
      ],
      "metadata": {
        "id": "cQXWfWGB84-E"
      }
    },
    {
      "cell_type": "markdown",
      "source": [
        "11.   What is the difference between a Z-test and a T-test?\n",
        "\n",
        "=>  Z-test: Known σ, large n\n",
        "\n",
        "T-test: Unknown σ, small n\n",
        "As n increases, the t-distribution approaches the normal distribution."
      ],
      "metadata": {
        "id": "uAfd0kFM9Crq"
      }
    },
    {
      "cell_type": "markdown",
      "source": [
        "12.  What is the T-test, and how is it used in hypothesis testing?\n",
        "\n",
        "=>  A T-test assesses whether the means of two groups are statistically different:\n",
        "\n",
        "One-sample t-test\n",
        "\n",
        "Two-sample t-test\n",
        "\n",
        "Paired t-test"
      ],
      "metadata": {
        "id": "paOVvu9N9Jer"
      }
    },
    {
      "cell_type": "markdown",
      "source": [
        "13. What is the relationship between Z-test and T-test in hypothesis testing?\n",
        "\n",
        "=>  They both test hypotheses about means. The t-test is more flexible and used when population variance is unknown."
      ],
      "metadata": {
        "id": "PkvRWHKV9TOi"
      }
    },
    {
      "cell_type": "markdown",
      "source": [
        "14.   What is a confidence interval, and how is it used to interpret statistical results?\n",
        "\n",
        "=>  A confidence interval (CI) gives a range of values within which the true population parameter is likely to fall, with a certain confidence level (like 95%).\n",
        "\n"
      ],
      "metadata": {
        "id": "Hhy0VS6p9f61"
      }
    },
    {
      "cell_type": "markdown",
      "source": [
        "15.  What is the margin of error, and how does it affect the confidence interval?\n",
        "\n",
        "=> The margin of error (ME) is the range above and below the sample estimate. Larger ME = wider CI = less precision.\n",
        "\n"
      ],
      "metadata": {
        "id": "I4qgWL6n9uds"
      }
    },
    {
      "cell_type": "markdown",
      "source": [
        "16.  How is Bayes' Theorem used in statistics, and what is its significance?\n",
        "\n",
        "=>  Bayes’ Theorem is a formula that describes how to update the probability of a hypothesis based on new evidence. It’s central to Bayesian statistics, which is an alternative to classical (frequentist) statistics.\n",
        "\n",
        " The Formula\n",
        "𝑃\n",
        "(\n",
        "𝐴\n",
        "∣\n",
        "𝐵\n",
        ")\n",
        "=\n",
        "𝑃\n",
        "(\n",
        "𝐵\n",
        "∣\n",
        "𝐴\n",
        ")\n",
        "⋅\n",
        "𝑃\n",
        "(\n",
        "𝐴\n",
        ")\n",
        "𝑃\n",
        "(\n",
        "𝐵\n",
        ")\n",
        "P(A∣B)=\n",
        "P(B)\n",
        "P(B∣A)⋅P(A)\n",
        "​\n",
        "\n",
        "Where:\n",
        "\n",
        "P(A|B): Probability of event A given event B (posterior)\n",
        "\n",
        "P(B|A): Probability of event B given event A (likelihood)\n",
        "\n",
        "P(A): Probability of event A (prior)\n",
        "\n",
        "P(B): Probability of event B (normalizing constant)\n",
        "\n",
        " Interpretation in Statistics\n",
        "Bayes’ Theorem tells us how to update our belief about a hypothesis (A) after observing new data (B). It allows us to move from a prior probability to a posterior probability.\n",
        "\n",
        " Example Use Case (Medical Test)\n",
        "Let’s say:\n",
        "\n",
        "1% of people have a disease (P(Disease) = 0.01)\n",
        "\n",
        "The test is 99% accurate:\n",
        "\n",
        "P(Positive | Disease) = 0.99\n",
        "\n",
        "P(Positive | No Disease) = 0.01\n",
        "\n",
        "You get a positive test result. What's the chance you actually have the disease?\n",
        "\n",
        "Using Bayes’ Theorem:\n",
        "\n",
        "𝑃\n",
        "(\n",
        "𝐷\n",
        "𝑖\n",
        "𝑠\n",
        "𝑒\n",
        "𝑎\n",
        "𝑠\n",
        "𝑒\n",
        "∣\n",
        "𝑃\n",
        "𝑜\n",
        "𝑠\n",
        "𝑖\n",
        "𝑡\n",
        "𝑖\n",
        "𝑣\n",
        "𝑒\n",
        ")\n",
        "=\n",
        "0.99\n",
        "⋅\n",
        "0.01\n",
        "(\n",
        "0.99\n",
        "⋅\n",
        "0.01\n",
        ")\n",
        "+\n",
        "(\n",
        "0.01\n",
        "⋅\n",
        "0.99\n",
        ")\n",
        "=\n",
        "0.0099\n",
        "0.0099\n",
        "+\n",
        "0.0099\n",
        "=\n",
        "0.5\n",
        "P(Disease∣Positive)=\n",
        "(0.99⋅0.01)+(0.01⋅0.99)\n",
        "0.99⋅0.01\n",
        "​\n",
        " =\n",
        "0.0099+0.0099\n",
        "0.0099\n",
        "​\n",
        " =0.5\n",
        "Even with a positive test, there's only a 50% chance you have the disease — because it’s rare, and false positives matter.\n",
        "\n",
        " Significance in Statistics\n",
        "Incorporates prior knowledge (priors)\n",
        "\n",
        "Dynamically updates with new data\n",
        "\n",
        "Used in:\n",
        "\n",
        "Machine learning\n",
        "\n",
        "Medical diagnostics\n",
        "\n",
        "Spam filtering\n",
        "\n",
        "Economics and risk modeling\n",
        "\n"
      ],
      "metadata": {
        "id": "obM3UXJR96My"
      }
    },
    {
      "cell_type": "markdown",
      "source": [
        "17.   What is the Chi-square distribution, and when is it used?\n",
        "\n",
        "=>  he Chi-square (χ²) distribution is used for categorical data to test independence and goodness of fit.\n",
        "\n"
      ],
      "metadata": {
        "id": "7ZXeMjdy-dID"
      }
    },
    {
      "cell_type": "markdown",
      "source": [
        "18.  What is the Chi-square goodness of fit test, and how is it applied?\n",
        "\n",
        "=>  It checks if an observed distribution matches an expected one.\n",
        "Formula: χ² = Σ((O - E)² / E)"
      ],
      "metadata": {
        "id": "CHl1Wp8T-qMw"
      }
    },
    {
      "cell_type": "markdown",
      "source": [
        "19. What is the F-distribution, and when is it used in hypothesis testing?\n",
        "\n",
        "=>  The F-distribution is used to compare variances. It’s crucial in ANOVA and regression analysis.\n",
        "\n"
      ],
      "metadata": {
        "id": "RuenQJ0Y-zW_"
      }
    },
    {
      "cell_type": "markdown",
      "source": [
        "20.  What is an ANOVA test, and what are its assumptions?\n",
        "\n",
        "=>  ANOVA (Analysis of Variance) compares means across multiple groups.\n",
        "Assumptions:\n",
        "\n",
        "Normality\n",
        "\n",
        "Homogeneity of variances\n",
        "\n",
        "Independence of observations\n",
        "\n"
      ],
      "metadata": {
        "id": "7NIxC0lq--nU"
      }
    },
    {
      "cell_type": "markdown",
      "source": [
        "21. What are the different types of ANOVA tests?\n",
        "\n",
        "=>  One-way ANOVA: One independent variable\n",
        "\n",
        "Two-way ANOVA: Two independent variables\n",
        "\n",
        "Repeated Measures ANOVA: Same subjects tested multiple times"
      ],
      "metadata": {
        "id": "gOTaX3cg_F_U"
      }
    },
    {
      "cell_type": "markdown",
      "source": [
        "22.  What is the F-test, and how does it relate to hypothesis testing?\n",
        "\n",
        "=>  An F-test evaluates whether two populations have different variances. It’s the basis for ANOVA and helps test overall model significance in regression."
      ],
      "metadata": {
        "id": "1lNvBYHD_QfB"
      }
    },
    {
      "cell_type": "markdown",
      "source": [
        "**Practical**"
      ],
      "metadata": {
        "id": "q8dwjauR_Xmg"
      }
    },
    {
      "cell_type": "code",
      "source": [
        "# 1. Write a Python program to perform a Z-test for comparing a sample mean to a known population mean and interpret the results?\n",
        "import numpy as np\n",
        "import scipy.stats as stats\n",
        "import matplotlib.pyplot as plt\n",
        "import seaborn as sns\n",
        "def one_sample_z_test(sample_data, pop_mean, pop_std, alpha=0.05):\n",
        "    n = len(sample_data)\n",
        "    sample_mean = np.mean(sample_data)\n",
        "    z_score = (sample_mean - pop_mean) / (pop_std / np.sqrt(n))\n",
        "    p_value = 2 * (1 - stats.norm.cdf(abs(z_score)))\n",
        "    result = \"Reject Null Hypothesis\" if p_value < alpha else \"Fail to Reject Null Hypothesis\"\n",
        "    return z_score, p_value, result\n"
      ],
      "metadata": {
        "id": "rOvy-XCp_brs"
      },
      "execution_count": 2,
      "outputs": []
    },
    {
      "cell_type": "code",
      "source": [
        "# 2. Simulate random data to perform hypothesis testing and calculate the corresponding P-value using Python?\n",
        "np.random.seed(42)\n",
        "sample = np.random.normal(loc=52, scale=10, size=50)  # Simulate data\n",
        "z_stat, p_val, decision = one_sample_z_test(sample, pop_mean=50, pop_std=10)\n",
        "print(\"Z-test:\", z_stat, p_val, decision)"
      ],
      "metadata": {
        "colab": {
          "base_uri": "https://localhost:8080/"
        },
        "id": "T0bZQT75_2Xa",
        "outputId": "db2a846d-19fc-4b73-d236-a411c359d2a8"
      },
      "execution_count": 3,
      "outputs": [
        {
          "output_type": "stream",
          "name": "stdout",
          "text": [
            "Z-test: -0.18012771149920573 0.8570523077824828 Fail to Reject Null Hypothesis\n"
          ]
        }
      ]
    },
    {
      "cell_type": "code",
      "source": [
        "# 3.  Implement a one-sample Z-test using Python to compare the sample mean with the population mean?\n",
        "def plot_z_test(z_score, alpha=0.05):\n",
        "    x = np.linspace(-4, 4, 1000)\n",
        "    y = stats.norm.pdf(x, 0, 1)\n",
        "    z_critical = stats.norm.ppf(1 - alpha/2)\n",
        "\n",
        "    plt.figure(figsize=(10, 5))\n",
        "    sns.lineplot(x=x, y=y)\n",
        "    plt.axvline(z_critical, color='r', linestyle='--', label=f'+Z critical ({z_critical:.2f})')\n",
        "    plt.axvline(-z_critical, color='r', linestyle='--', label=f'-Z critical ({-z_critical:.2f})')\n",
        "    plt.axvline(z_score, color='g', label=f'Z score ({z_score:.2f})')\n",
        "    plt.fill_between(x, y, where=(x >= z_critical) | (x <= -z_critical), color='red', alpha=0.3)\n",
        "    plt.title('Two-tailed Z-test Decision Region')\n",
        "    plt.legend()\n",
        "    plt.show()\n",
        "\n",
        "plot_z_test(z_stat)\n"
      ],
      "metadata": {
        "colab": {
          "base_uri": "https://localhost:8080/",
          "height": 468
        },
        "id": "jypVU6ImADQe",
        "outputId": "e5d09744-2076-407c-aafd-04466ec739b6"
      },
      "execution_count": 4,
      "outputs": [
        {
          "output_type": "display_data",
          "data": {
            "text/plain": [
              "<Figure size 1000x500 with 1 Axes>"
            ],
            "image/png": "[encoded data removed]"
          },
          "metadata": {}
        }
      ]
    },
    {
      "cell_type": "code",
      "source": [
        "#4.  Perform a two-tailed Z-test using Python and visualize the decision region on a plot?\n",
        "def visualize_type_errors(mu0=50, mu1=52, sigma=10, n=30, alpha=0.05):\n",
        "    x = np.linspace(40, 60, 1000)\n",
        "    se = sigma / np.sqrt(n)\n",
        "    crit_val = stats.norm.ppf(1 - alpha/2, loc=mu0, scale=se)\n",
        "\n",
        "    y0 = stats.norm.pdf(x, mu0, se)\n",
        "    y1 = stats.norm.pdf(x, mu1, se)\n",
        "\n",
        "    plt.figure(figsize=(10, 5))\n",
        "    plt.plot(x, y0, label=\"H0 Distribution\", color='blue')\n",
        "    plt.plot(x, y1, label=\"H1 Distribution\", color='green')\n",
        "    plt.axvline(crit_val, color='red', linestyle='--', label='Critical Value')\n",
        "    plt.fill_between(x, y0, where=(x >= crit_val), color='red', alpha=0.3, label=\"Type I Error\")\n",
        "    plt.fill_between(x, y1, where=(x < crit_val), color='orange', alpha=0.3, label=\"Type II Error\")\n",
        "    plt.title(\"Type I and Type II Errors\")\n",
        "    plt.legend()\n",
        "    plt.show()\n",
        "\n",
        "visualize_type_errors()"
      ],
      "metadata": {
        "colab": {
          "base_uri": "https://localhost:8080/",
          "height": 468
        },
        "id": "4pJroBzeANqd",
        "outputId": "5786edcd-5e39-41f9-b7db-b34f901cb1a4"
      },
      "execution_count": 5,
      "outputs": [
        {
          "output_type": "display_data",
          "data": {
            "text/plain": [
              "<Figure size 1000x500 with 1 Axes>"
            ],
            "image/png": "[encoded data removed]"
          },
          "metadata": {}
        }
      ]
    },
    {
      "cell_type": "code",
      "source": [
        "# 5. Create a Python function that calculates and visualizes Type 1 and Type 2 errors during hypothesis testing?\n",
        "data1 = np.random.normal(50, 10, 30)\n",
        "data2 = np.random.normal(53, 10, 30)\n",
        "t_stat, t_p = stats.ttest_ind(data1, data2)\n",
        "print(\"Independent T-test:\", t_stat, t_p, \"Reject Null\" if t_p < 0.05 else \"Fail to Reject\")\n"
      ],
      "metadata": {
        "colab": {
          "base_uri": "https://localhost:8080/"
        },
        "id": "J3b_FMiPAWeN",
        "outputId": "0b0732bb-906e-4ffd-8997-0c8b0c56a9f9"
      },
      "execution_count": 6,
      "outputs": [
        {
          "output_type": "stream",
          "name": "stdout",
          "text": [
            "Independent T-test: -0.9855020309551478 0.3284709306197846 Fail to Reject\n"
          ]
        }
      ]
    },
    {
      "cell_type": "code",
      "source": [
        "# 6.  Write a Python program to perform an independent T-test and interpret the results?\n",
        "before = np.random.normal(100, 15, 30)\n",
        "after = before + np.random.normal(-5, 5, 30)\n",
        "t_stat_paired, p_val_paired = stats.ttest_rel(before, after)\n",
        "plt.figure(figsize=(8, 4))\n",
        "plt.plot(before, label='Before')\n",
        "plt.plot(after, label='After')\n",
        "plt.title(\"Paired Sample Comparison\")\n",
        "plt.legend()\n",
        "plt.show()\n",
        "print(\"Paired T-test:\", t_stat_paired, p_val_paired)"
      ],
      "metadata": {
        "colab": {
          "base_uri": "https://localhost:8080/",
          "height": 408
        },
        "id": "d9-5qLoEAez6",
        "outputId": "a5f5db52-4131-4f61-9c85-c3400f3759db"
      },
      "execution_count": 7,
      "outputs": [
        {
          "output_type": "display_data",
          "data": {
            "text/plain": [
              "<Figure size 800x400 with 1 Axes>"
            ],
            "image/png": "[encoded data removed]"
          },
          "metadata": {}
        },
        {
          "output_type": "stream",
          "name": "stdout",
          "text": [
            "Paired T-test: 5.121570546371444 1.809214016084082e-05\n"
          ]
        }
      ]
    },
    {
      "cell_type": "code",
      "source": [
        "#7.  Perform a paired sample T-test using Python and visualize the comparison results?\n",
        "sample_data = np.random.normal(55, 10, 25)\n",
        "z_result = one_sample_z_test(sample_data, pop_mean=50, pop_std=10)\n",
        "t_stat_solo, t_p_solo = stats.ttest_1samp(sample_data, 50)\n",
        "print(\"Z-test vs T-test:\", z_result, (t_stat_solo, t_p_solo))"
      ],
      "metadata": {
        "colab": {
          "base_uri": "https://localhost:8080/"
        },
        "id": "_FyrmPUCAmtZ",
        "outputId": "982362c0-0784-4f27-a768-4232894cbf62"
      },
      "execution_count": 8,
      "outputs": [
        {
          "output_type": "stream",
          "name": "stdout",
          "text": [
            "Z-test vs T-test: (np.float64(2.6690925643099597), np.float64(0.0076056486532321), 'Reject Null Hypothesis') (np.float64(2.8697796853148616), np.float64(0.008437749083315248))\n"
          ]
        }
      ]
    },
    {
      "cell_type": "code",
      "source": [
        "#8. Simulate data and perform both Z-test and T-test, then compare the results using Python?\n",
        "def confidence_interval(data, confidence=0.95):\n",
        "    n = len(data)\n",
        "    mean = np.mean(data)\n",
        "    sem = stats.sem(data)\n",
        "    margin = stats.t.ppf((1 + confidence) / 2., n-1) * sem\n",
        "    return mean - margin, mean + margin\n",
        "\n",
        "ci_low, ci_high = confidence_interval(sample_data)\n",
        "print(f\"95% Confidence Interval: ({ci_low:.2f}, {ci_high:.2f})\")\n"
      ],
      "metadata": {
        "colab": {
          "base_uri": "https://localhost:8080/"
        },
        "id": "MSwkospMAt3Z",
        "outputId": "471441a8-27ac-4672-d5f0-4d4cb212edde"
      },
      "execution_count": 9,
      "outputs": [
        {
          "output_type": "stream",
          "name": "stdout",
          "text": [
            "95% Confidence Interval: (51.50, 59.18)\n"
          ]
        }
      ]
    },
    {
      "cell_type": "code",
      "source": [
        "#9. Write a Python function to calculate the confidence interval for a sample mean and explain its significance?\n",
        "from scipy import stats\n",
        "import numpy as np\n",
        "\n",
        "def confidence_interval(data, confidence=0.95):\n",
        "    \"\"\"\n",
        "    Calculate the confidence interval for a sample mean.\n",
        "\n",
        "    Parameters:\n",
        "    - data (list or array): Sample data\n",
        "    - confidence (float): Confidence level (default is 0.95 for 95%)\n",
        "\n",
        "    Returns:\n",
        "    - (lower_bound, upper_bound): Confidence interval as a tuple\n",
        "    \"\"\"\n",
        "    n = len(data)\n",
        "    mean = np.mean(data)\n",
        "    sem = stats.sem(data)  # Standard Error of the Mean\n",
        "    margin = stats.t.ppf((1 + confidence) / 2, df=n-1) * sem\n",
        "    return mean - margin, mean + margin\n"
      ],
      "metadata": {
        "id": "q74ZyTHtA4sZ"
      },
      "execution_count": 10,
      "outputs": []
    },
    {
      "cell_type": "code",
      "source": [
        "# 10. Write a Python program to calculate the margin of error for a given confidence level using sample data?\n",
        "def margin_of_error(data, confidence=0.95):\n",
        "    sem = stats.sem(data)\n",
        "    margin = stats.t.ppf((1 + confidence) / 2., len(data) - 1) * sem\n",
        "    return margin"
      ],
      "metadata": {
        "id": "wCP_JZPzBK_h"
      },
      "execution_count": 11,
      "outputs": []
    },
    {
      "cell_type": "code",
      "source": [
        "# 11. Implement a Bayesian inference method using Bayes' Theorem in Python and explain the process?\n",
        "def bayes_theorem(prior_A, likelihood_B_given_A, prob_B):\n",
        "    posterior_A_given_B = (likelihood_B_given_A * prior_A) / prob_B\n",
        "    return posterior_A_given_B\n"
      ],
      "metadata": {
        "id": "WmJk3NQPBiXh"
      },
      "execution_count": 12,
      "outputs": []
    },
    {
      "cell_type": "code",
      "source": [
        "# 12.  Perform a Chi-square test for independence between two categorical variables in Python?\n",
        "from scipy.stats import chi2_contingency\n",
        "\n",
        "def chi_square_test_independence(table):\n",
        "    chi2, p, dof, expected = chi2_contingency(table)\n",
        "    return chi2, p, dof, expected\n",
        "    chi2, p, dof, expected = chi2_contingency(table)\n",
        "    return chi2, p, dof, expected\n"
      ],
      "metadata": {
        "id": "vMx5PAinBr9B"
      },
      "execution_count": 16,
      "outputs": []
    },
    {
      "cell_type": "code",
      "source": [
        "#13.  Write a Python program to calculate the expected frequencies for a Chi-square test based on observed data.\n",
        "def calculate_expected(observed):\n",
        "    _, _, _, expected = stats.chi2_contingency(observed)\n",
        "    return expected\n"
      ],
      "metadata": {
        "id": "cDZ1LQYTB24w"
      },
      "execution_count": 17,
      "outputs": []
    },
    {
      "cell_type": "code",
      "source": [
        "#14.  Perform a goodness-of-fit test using Python to compare the observed data to an expected distribution?\n",
        "def chi_square_goodness_of_fit(observed, expected):\n",
        "    chi2_stat, p_val = stats.chisquare(f_obs=observed, f_exp=expected)\n",
        "    return chi2_stat, p_val"
      ],
      "metadata": {
        "id": "kwTW18goCGRr"
      },
      "execution_count": 18,
      "outputs": []
    },
    {
      "cell_type": "code",
      "source": [
        "#15. Create a Python script to simulate and visualize the Chi-square distribution and discuss its characteristics?\n",
        "def visualize_chi_square(df):\n",
        "    x = np.linspace(0, 30, 500)\n",
        "    y = stats.chi2.pdf(x, df)\n",
        "    plt.plot(x, y)\n",
        "    plt.title(f\"Chi-Square Distribution (df={df})\")\n",
        "    plt.xlabel('Value')\n",
        "    plt.ylabel('Probability Density')\n",
        "    plt.show()"
      ],
      "metadata": {
        "id": "Q_1ILF0-CSVB"
      },
      "execution_count": 19,
      "outputs": []
    },
    {
      "cell_type": "code",
      "source": [
        "#16.  Implement an F-test using Python to compare the variances of two random samples?\n",
        "def f_test(var1, var2):\n",
        "    f_stat = np.var(var1, ddof=1) / np.var(var2, ddof=1)\n",
        "    dfn = len(var1) - 1\n",
        "    dfd = len(var2) - 1\n",
        "    p_val = 1 - stats.f.cdf(f_stat, dfn, dfd)\n",
        "    return f_stat, p_val"
      ],
      "metadata": {
        "id": "dOYbp-hkCcDh"
      },
      "execution_count": 20,
      "outputs": []
    },
    {
      "cell_type": "code",
      "source": [
        "#17. Write a Python program to perform an ANOVA test to compare means between multiple groups and interpret the results\n",
        "def one_way_anova(data):\n",
        "    f_stat, p_val = stats.f_oneway(*data)\n",
        "    return f_stat, p_val"
      ],
      "metadata": {
        "id": "lEOQz1nxCnwE"
      },
      "execution_count": 22,
      "outputs": []
    },
    {
      "cell_type": "code",
      "source": [
        "#18.  Perform a one-way ANOVA test using Python to compare the means of different groups and plot the results?\n",
        "def anova_test(*groups):\n",
        "    f_stat, p_val = stats.f_oneway(*groups)\n",
        "    return f_stat, p_val\n"
      ],
      "metadata": {
        "id": "egk1Y8mBCzfh"
      },
      "execution_count": 23,
      "outputs": []
    },
    {
      "cell_type": "code",
      "source": [
        "#19.  Write a Python function to check the assumptions (normality, independence, and equal variance) for ANOVA?\n",
        "from statsmodels.stats.diagnostic import lilliefors\n",
        "\n",
        "def check_anova_assumptions(groups):\n",
        "    normality = [stats.shapiro(group)[1] > 0.05 for group in groups]\n",
        "    equal_var = stats.levene(*groups)[1] > 0.05\n",
        "    return all(normality), equal_var"
      ],
      "metadata": {
        "id": "TQKBjJmyDIs6"
      },
      "execution_count": 24,
      "outputs": []
    },
    {
      "cell_type": "code",
      "source": [
        "# 20.  Perform a two-way ANOVA test using Python to study the interaction between two factors and visualize the result.\n",
        "import statsmodels.api as sm\n",
        "from statsmodels.formula.api import ols\n",
        "\n",
        "def two_way_anova(data, formula):\n",
        "    model = ols(formula, data).fit()\n",
        "    anova_table = sm.stats.anova_lm(model, typ=2)\n",
        "    return anova_table\n"
      ],
      "metadata": {
        "id": "l46DxHlQDPWZ"
      },
      "execution_count": 25,
      "outputs": []
    },
    {
      "cell_type": "code",
      "source": [
        "# 21. Write a Python program to visualize the F-distribution and discuss its use in hypothesis testing?\n",
        "def plot_f_distribution(dfn, dfd):\n",
        "    x = np.linspace(0, 5, 500)\n",
        "    y = stats.f.pdf(x, dfn, dfd)\n",
        "    plt.plot(x, y)\n",
        "    plt.title(f\"F-distribution with dfn={dfn}, dfd={dfd}\")\n",
        "    plt.xlabel('F-value')\n",
        "    plt.ylabel('Probability Density')\n",
        "    plt.show()"
      ],
      "metadata": {
        "id": "K6mL68S5DaiZ"
      },
      "execution_count": 26,
      "outputs": []
    },
    {
      "cell_type": "code",
      "source": [
        "# 22. Perform a one-way ANOVA test in Python and visualize the results with boxplots to compare group means?\n",
        "def anova_boxplot(data, labels):\n",
        "    df = pd.DataFrame({'Values': np.concatenate(data), 'Groups': np.repeat(labels, [len(g) for g in data])})\n",
        "    sns.boxplot(x='Groups', y='Values', data=df)\n",
        "    plt.title('Group Comparison with Boxplot')\n",
        "    plt.show()\n",
        "    return anova_test(*data)"
      ],
      "metadata": {
        "id": "RslM85KNDirZ"
      },
      "execution_count": 27,
      "outputs": []
    },
    {
      "cell_type": "code",
      "source": [
        "# 23.  Simulate random data from a normal distribution, then perform hypothesis testing to evaluate the means?\n",
        "def simulate_and_test():\n",
        "    group1 = np.random.normal(100, 10, 30)\n",
        "    group2 = np.random.normal(102, 10, 30)\n",
        "    return stats.ttest_ind(group1, group2)\n"
      ],
      "metadata": {
        "id": "JoRpzykMDrQB"
      },
      "execution_count": 28,
      "outputs": []
    },
    {
      "cell_type": "code",
      "source": [
        "# 24.  Perform a hypothesis test for population variance using a Chi-square distribution and interpret the results?\n",
        "def variance_test(data, hypothesized_var):\n",
        "    df = len(data) - 1\n",
        "    sample_var = np.var(data, ddof=1)\n",
        "    chi2 = (df * sample_var) / hypothesized_var\n",
        "    p_val = 1 - stats.chi2.cdf(chi2, df)\n",
        "    return chi2, p_val\n",
        "    chi2, p_val = stats.chisquare(data, f_exp=np.full_like(data, hypothesized_var))\n",
        "    return chi2, p_val"
      ],
      "metadata": {
        "id": "Zhq5bz3CD0pk"
      },
      "execution_count": 29,
      "outputs": []
    },
    {
      "cell_type": "code",
      "source": [
        "#25.  Write a Python script to perform a Z-test for comparing proportions between two datasets or groups?\n",
        "def z_test_proportions(success1, n1, success2, n2):\n",
        "    p1 = success1 / n1\n",
        "    p2 = success2 / n2\n",
        "    p_pool = (success1 + success2) / (n1 + n2)\n",
        "    se = np.sqrt(p_pool * (1 - p_pool) * (1/n1 + 1/n2))\n",
        "    z = (p1 - p2) / se\n",
        "    p_val = 2 * (1 - stats.norm.cdf(abs(z)))\n",
        "    return z, p_val\n"
      ],
      "metadata": {
        "id": "oX0TAQCsD-Ay"
      },
      "execution_count": 30,
      "outputs": []
    },
    {
      "cell_type": "code",
      "source": [
        "#26.  Implement an F-test for comparing the variances of two datasets, then interpret and visualize the results?\n",
        "def f_test_with_visualization(data1, data2, alpha=0.05):\n",
        "    var1 = np.var(data1, ddof=1)\n",
        "    var2 = np.var(data2, ddof=1)\n",
        "\n",
        "    f_stat = var1 / var2\n",
        "    dfn = len(data1) - 1\n",
        "    dfd = len(data2) - 1\n",
        "\n",
        "    # Two-tailed test critical values\n",
        "    f_crit_low = stats.f.ppf(alpha / 2, dfn, dfd)\n",
        "    f_crit_high = stats.f.ppf(1 - alpha / 2, dfn, dfd)\n",
        "\n",
        "    # P-value\n",
        "    if f_stat > 1:\n",
        "        p_val = 2 * (1 - stats.f.cdf(f_stat, dfn, dfd))\n",
        "    else:\n",
        "        p_val = 2 * stats.f.cdf(f_stat, dfn, dfd)\n",
        "\n",
        "    # Visualization\n",
        "    x = np.linspace(0.1, 5, 500)\n",
        "    y = stats.f.pdf(x, dfn, dfd)\n",
        "\n",
        "    plt.figure(figsize=(8, 4))\n",
        "    plt.plot(x, y, label=\"F-distribution\")\n",
        "    plt.axvline(f_stat, color='r', linestyle='--', label=f'F-stat = {f_stat:.2f}')\n",
        "    plt.axvline(f_crit_low, color='purple', linestyle='--', label=f'Lower Crit = {f_crit_low:.2f}')\n",
        "    plt.axvline(f_crit_high, color='purple', linestyle='--', label=f'Upper Crit = {f_crit_high:.2f}')\n",
        "\n",
        "    plt.fill_between(x, y, where=(x <= f_crit_low) | (x >= f_crit_high), color='gray', alpha=0.3)\n",
        "    plt.title(\"F-Test for Equality of Variances\")\n",
        "    plt.xlabel(\"F Value\")\n",
        "    plt.ylabel(\"Density\")\n",
        "    plt.legend()\n",
        "    plt.grid(True)\n",
        "    plt.show()\n",
        "\n",
        "    # Interpretation\n",
        "    reject = f_stat <= f_crit_low or f_stat >= f_crit_high\n",
        "    decision = \"Reject H₀: Variances are different\" if reject else \"Fail to reject H₀: Variances are equal\"\n",
        "\n",
        "    return {\n",
        "        'F-statistic': f_stat,\n",
        "        'p-value': p_val,\n",
        "        'decision': decision,\n",
        "        'dfn': dfn,\n",
        "        'dfd': dfd\n",
        "    }\n",
        "\n"
      ],
      "metadata": {
        "id": "q-MULTIuEF2J"
      },
      "execution_count": 32,
      "outputs": []
    },
    {
      "cell_type": "code",
      "source": [
        "#27.  def chi_square_gof_simulated(n_categories=5, sample_size=100, expected_dist=None):\n",
        "    # Simulate observed data\n",
        " observed = np.random.multinomial(sample_size, [1/n_categories]*n_categories)\n",
        "\n",
        "    # Define expected distribution\n",
        "    if expected_dist is None:\n",
        "        expected = np.full(n_categories, sample_size / n_categories)\n",
        "    else:\n",
        "        expected = np.array(expected_dist) * sample_size\n",
        "\n",
        "    # Chi-square test\n",
        "    chi2_stat, p_val = stats.chisquare(f_obs=observed, f_exp=expected)\n",
        "\n",
        "    # Visualization\n",
        "    categories = [f\"C{i+1}\" for i in range(n_categories)]\n",
        "    df = pd.DataFrame({'Category': categories, 'Observed': observed, 'Expected': expected})\n",
        "    df.set_index('Category')[['Observed', 'Expected']].plot(kind='bar')\n",
        "    plt.title(\"Chi-square Goodness-of-Fit Test\")\n",
        "    plt.ylabel(\"Frequency\")\n",
        "    plt.grid(True)\n",
        "    plt.tight_layout()\n",
        "    plt.show()\n",
        "\n",
        "    # Interpretation\n",
        "    result = {\n",
        "        'Observed': observed,\n",
        "        'Expected': expected,\n",
        "        'Chi2 Statistic': chi2_stat,\n",
        "        'p-value': p_val,\n",
        "        'Conclusion': 'Reject H₀ (distribution differs)' if p_val < 0.05 else 'Fail to reject H₀ (no significant difference)'\n",
        "    }\n",
        "\n",
        "    return result"
      ],
      "metadata": {
        "colab": {
          "base_uri": "https://localhost:8080/",
          "height": 106
        },
        "id": "ug5EsRi1EOqj",
        "outputId": "dce73cd7-6924-46f3-ca76-9671aae605a1"
      },
      "execution_count": 38,
      "outputs": [
        {
          "output_type": "error",
          "ename": "IndentationError",
          "evalue": "unexpected indent (<ipython-input-38-9ccdce4248b3>, line 3)",
          "traceback": [
            "\u001b[0;36m  File \u001b[0;32m\"<ipython-input-38-9ccdce4248b3>\"\u001b[0;36m, line \u001b[0;32m3\u001b[0m\n\u001b[0;31m    observed = np.random.multinomial(sample_size, [1/n_categories]*n_categories)\u001b[0m\n\u001b[0m    ^\u001b[0m\n\u001b[0;31mIndentationError\u001b[0m\u001b[0;31m:\u001b[0m unexpected indent\n"
          ]
        }
      ]
    }
  ]
}